{
 "cells": [
  {
   "cell_type": "markdown",
   "id": "f46c212d-b5e9-4543-bcca-70ced4ce5e95",
   "metadata": {},
   "source": [
    "# Practical Part 2: Linked Data\n",
    "\n",
    "Use this Jupyter Notebook as a base to start working with Linked Data.\n",
    "\n",
    "It employs [rdflib](https://rdflib.readthedocs.io/en/stable/gettingstarted.html) and the [SPARQLWrapper](https://sparqlwrapper.readthedocs.io/en/latest/main.html#how-to-use) Module to interact with RDF.\n",
    "\n",
    "## Install Modules\n",
    "\n",
    "Please run the following cell if you have not yet installed these modules in your environment:\n"
   ]
  },
  {
   "cell_type": "code",
   "execution_count": null,
   "id": "134db616-37b3-4bc9-ab13-8cb79df7526f",
   "metadata": {
    "tags": []
   },
   "outputs": [],
   "source": [
    "!pip install rdflib SPARQLWrapper"
   ]
  },
  {
   "cell_type": "markdown",
   "id": "f2c081d3-4a1b-4e73-a9e8-b07983b5a094",
   "metadata": {},
   "source": [
    "## Import Modules"
   ]
  },
  {
   "cell_type": "code",
   "execution_count": 6,
   "id": "ac517c29-30e7-4d1a-bd79-7a55aaabe214",
   "metadata": {
    "tags": []
   },
   "outputs": [],
   "source": [
    "from rdflib import Graph\n",
    "from SPARQLWrapper import SPARQLWrapper, JSON"
   ]
  },
  {
   "cell_type": "markdown",
   "id": "acecc321-99d8-4fb5-9315-a0221af05887",
   "metadata": {
    "tags": []
   },
   "source": [
    "## Work with Triples\n",
    "\n",
    "Parse triples in [turtle](https://www.w3.org/TR/turtle/) format into a graph."
   ]
  },
  {
   "cell_type": "code",
   "execution_count": 30,
   "id": "d67fe291-cac4-4379-b1c3-5c33bab5b738",
   "metadata": {
    "tags": []
   },
   "outputs": [],
   "source": [
    "entry=Graph().parse(format='ttl',\n",
    "                     data=\"\"\"\n",
    "@prefix schema: <http://schema.org/>.\n",
    "\n",
    "<https://unibe.ch/michael.luggen> schema:givenName \"Michael\" .\n",
    "\"\"\")"
   ]
  },
  {
   "cell_type": "markdown",
   "id": "b8dbe87d-e7c4-47ad-9a60-95d949ddaad5",
   "metadata": {},
   "source": [
    "Serialize graph to [json-ld](https://json-ld.org/) format."
   ]
  },
  {
   "cell_type": "code",
   "execution_count": 37,
   "id": "583a65f3-318b-495d-9864-546994d8e521",
   "metadata": {
    "tags": []
   },
   "outputs": [
    {
     "name": "stdout",
     "output_type": "stream",
     "text": [
      "[\n",
      "  {\n",
      "    \"@id\": \"https://unibe.ch/michael.luggen\",\n",
      "    \"http://schema.org/givenName\": [\n",
      "      {\n",
      "        \"@value\": \"Michael\"\n",
      "      }\n",
      "    ]\n",
      "  }\n",
      "]\n"
     ]
    }
   ],
   "source": [
    "print(entry.serialize(format=\"json-ld\"))"
   ]
  },
  {
   "cell_type": "markdown",
   "id": "712201a5-d6f4-4114-b521-4b17441e9da5",
   "metadata": {
    "tags": []
   },
   "source": [
    "Query the graph with SPARQL."
   ]
  },
  {
   "cell_type": "code",
   "execution_count": 35,
   "id": "7fd23e70-99c5-48d3-9670-ab7c81404411",
   "metadata": {
    "tags": []
   },
   "outputs": [
    {
     "name": "stdout",
     "output_type": "stream",
     "text": [
      "Michael\n"
     ]
    }
   ],
   "source": [
    "q = \"\"\"\n",
    "    PREFIX schema: <http://schema.org/>\n",
    "\n",
    "    SELECT ?name\n",
    "    WHERE {\n",
    "\n",
    "        ?p schema:givenName ?name .\n",
    "    }\n",
    "\"\"\"\n",
    "\n",
    "# Apply the query to the graph and iterate through results\n",
    "for r in entry.query(q):\n",
    "    print(r[\"name\"])"
   ]
  }
 ],
 "metadata": {
  "kernelspec": {
   "display_name": "Python 3 (ipykernel)",
   "language": "python",
   "name": "python3"
  },
  "language_info": {
   "codemirror_mode": {
    "name": "ipython",
    "version": 3
   },
   "file_extension": ".py",
   "mimetype": "text/x-python",
   "name": "python",
   "nbconvert_exporter": "python",
   "pygments_lexer": "ipython3",
   "version": "3.10.11"
  }
 },
 "nbformat": 4,
 "nbformat_minor": 5
}
